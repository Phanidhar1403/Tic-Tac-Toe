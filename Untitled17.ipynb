{
 "cells": [
  {
   "cell_type": "code",
   "execution_count": 1,
   "id": "ef5ed7a0-e21c-4c48-b87e-a7283045a61e",
   "metadata": {},
   "outputs": [],
   "source": [
    "import tkinter as tk\n",
    "from tkinter import messagebox"
   ]
  },
  {
   "cell_type": "code",
   "execution_count": 21,
   "id": "6d1e133e-3c5a-4057-b57a-e11d2a07620c",
   "metadata": {},
   "outputs": [
    {
     "name": "stderr",
     "output_type": "stream",
     "text": [
      "Exception in Tkinter callback\n",
      "Traceback (most recent call last):\n",
      "  File \"C:\\Users\\phani\\anaconda3\\Lib\\tkinter\\__init__.py\", line 1968, in __call__\n",
      "    return self.func(*args)\n",
      "           ^^^^^^^^^^^^^^^^\n",
      "  File \"C:\\Users\\phani\\AppData\\Local\\Temp\\ipykernel_31144\\967856689.py\", line 11, in <lambda>\n",
      "    button=tk.Button(self.root,text=\"\", font=('Arial', 20), width=5, height=2, command=lambda i=i, j=j: self.on_button_click(i,j))\n",
      "                                                                                                        ^^^^^^^^^^^^^^^^^^^^^^^^^\n",
      "  File \"C:\\Users\\phani\\AppData\\Local\\Temp\\ipykernel_31144\\967856689.py\", line 19, in on_button_click\n",
      "    elif self.check_draw():\n",
      "         ^^^^^^^^^^^^^^^^^\n",
      "  File \"C:\\Users\\phani\\AppData\\Local\\Temp\\ipykernel_31144\\967856689.py\", line 37, in check_draw\n",
      "    for row in self.buttons:\n",
      "               ^^^^\n",
      "NameError: name 'self' is not defined. Did you mean: 'Self'?\n",
      "Exception in Tkinter callback\n",
      "Traceback (most recent call last):\n",
      "  File \"C:\\Users\\phani\\anaconda3\\Lib\\tkinter\\__init__.py\", line 1968, in __call__\n",
      "    return self.func(*args)\n",
      "           ^^^^^^^^^^^^^^^^\n",
      "  File \"C:\\Users\\phani\\AppData\\Local\\Temp\\ipykernel_31144\\967856689.py\", line 11, in <lambda>\n",
      "    button=tk.Button(self.root,text=\"\", font=('Arial', 20), width=5, height=2, command=lambda i=i, j=j: self.on_button_click(i,j))\n",
      "                                                                                                        ^^^^^^^^^^^^^^^^^^^^^^^^^\n",
      "  File \"C:\\Users\\phani\\AppData\\Local\\Temp\\ipykernel_31144\\967856689.py\", line 19, in on_button_click\n",
      "    elif self.check_draw():\n",
      "         ^^^^^^^^^^^^^^^^^\n",
      "  File \"C:\\Users\\phani\\AppData\\Local\\Temp\\ipykernel_31144\\967856689.py\", line 37, in check_draw\n",
      "    for row in self.buttons:\n",
      "               ^^^^\n",
      "NameError: name 'self' is not defined. Did you mean: 'Self'?\n"
     ]
    }
   ],
   "source": [
    "class TicTacToe:\n",
    "    def __init__(self,root):\n",
    "        self.root=root\n",
    "        self.root.title(\"Tic Tac Toe\")\n",
    "        self.current_player=\"X\"\n",
    "        self.buttons=[[None for _ in range(3)] for _ in range(3)]\n",
    "        self.create_board()\n",
    "    def create_board(self):\n",
    "        for i in range(3):\n",
    "            for j in range(3):\n",
    "                button=tk.Button(self.root,text=\"\", font=('Arial', 20), width=5, height=2, command=lambda i=i, j=j: self.on_button_click(i,j))\n",
    "                button.grid(row=i, column=j)\n",
    "                self.buttons[i][j]=button\n",
    "    def on_button_click(self,i,j):\n",
    "        if self.buttons[i][j]['text']==\"\"and not self.check_winner():\n",
    "            self.buttons[i][j]['text']=self.current_player\n",
    "            if self.check_winner():\n",
    "                self.show_winner(self.current_player)\n",
    "            elif self.check_draw():\n",
    "                self.show_draw()\n",
    "            else:\n",
    "                self.switch_player()\n",
    "    def switch_player(self):\n",
    "        self.current_player=\"O\" if self.current_player ==\"X\" else\"X\"\n",
    "    def check_winner(self):\n",
    "        for i in range(3):\n",
    "            if self.buttons[i][0]['text']==self.buttons[i][1]['text']==self.buttons[i][2]['text'] !=\"\":\n",
    "                return True\n",
    "            if self.buttons[0][i]['text']==self.buttons[1][i]['text']==self.buttons[2][i]['text'] !=\"\":\n",
    "                return True\n",
    "        if self.buttons[0][0]['text']==self.buttons[1][1]['text'] == self.buttons[2][2]['text']!=\"\":\n",
    "            return True\n",
    "        if self.buttons[0][2]['text']==self.buttons[1][1]['text']==self.buttons[2][0]['text']!=\"\":\n",
    "            return True\n",
    "        return False\n",
    "    def check_draw(Self):\n",
    "        for row in self.buttons:\n",
    "            for button in row:\n",
    "                if button['text']==\"\":\n",
    "                    return False\n",
    "        return True\n",
    "    def show_winner(self,player):\n",
    "        messagebox.showinfo(\"Tic Tac Toe\",f\"player{player}win!\")\n",
    "        self.reset_board()\n",
    "    def show_draw(self):\n",
    "        messagebox.showinfo(\"Tic Tac Toe\",\"It's a draw\")\n",
    "        self.reset_board()\n",
    "    def reset_board(self):\n",
    "        for row in self.buttons:\n",
    "            for button in row:\n",
    "                button['text']=\"\"\n",
    "if __name__==\"__main__\":\n",
    "    root=tk.Tk()\n",
    "    game=TicTacToe(root)\n",
    "    root.mainloop()"
   ]
  }
 ],
 "metadata": {
  "kernelspec": {
   "display_name": "Python 3 (ipykernel)",
   "language": "python",
   "name": "python3"
  },
  "language_info": {
   "codemirror_mode": {
    "name": "ipython",
    "version": 3
   },
   "file_extension": ".py",
   "mimetype": "text/x-python",
   "name": "python",
   "nbconvert_exporter": "python",
   "pygments_lexer": "ipython3",
   "version": "3.12.4"
  }
 },
 "nbformat": 4,
 "nbformat_minor": 5
}
